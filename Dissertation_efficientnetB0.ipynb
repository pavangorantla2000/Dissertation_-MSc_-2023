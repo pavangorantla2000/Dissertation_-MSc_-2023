{
 "cells": [
  {
   "cell_type": "markdown",
   "id": "a18caa10",
   "metadata": {},
   "source": [
    "# Extract_embeddings code"
   ]
  },
  {
   "cell_type": "code",
   "execution_count": 1,
   "id": "dc0601ef",
   "metadata": {},
   "outputs": [],
   "source": [
    "import pickle\n",
    "from argparse import ArgumentParser\n",
    "from pathlib import Path\n",
    "from typing import Callable, List\n",
    "\n",
    "import torch\n",
    "from efficientnet_pytorch import EfficientNet\n",
    "from PIL import Image\n",
    "from torchvision import transforms\n",
    "from tqdm import tqdm"
   ]
  },
  {
   "cell_type": "code",
   "execution_count": 26,
   "id": "39c2f3fd",
   "metadata": {},
   "outputs": [],
   "source": [
    "import os\n",
    "import matplotlib.pyplot as plt"
   ]
  },
  {
   "cell_type": "code",
   "execution_count": 28,
   "id": "cdb4d4bf",
   "metadata": {},
   "outputs": [],
   "source": [
    "%matplotlib inline"
   ]
  },
  {
   "cell_type": "code",
   "execution_count": 3,
   "id": "c523fb18",
   "metadata": {},
   "outputs": [],
   "source": [
    "os.chdir(\"E:/final/Dissertation/\")"
   ]
  },
  {
   "cell_type": "code",
   "execution_count": 4,
   "id": "5428e7ec",
   "metadata": {},
   "outputs": [],
   "source": [
    "def get_model() -> torch.nn.Module:\n",
    "    model = EfficientNet.from_pretrained(\"efficientnet-b0\")\n",
    "    model.eval()\n",
    "    return model"
   ]
  },
  {
   "cell_type": "code",
   "execution_count": 5,
   "id": "bdfe957d",
   "metadata": {},
   "outputs": [],
   "source": [
    "def get_transform(width: int, height: int) -> Callable[[Image.Image], torch.Tensor]:\n",
    "    \"\"\"Provide a transform that converts image to a square and keeps the cell shape\"\"\"\n",
    "    target_dim = max(width, height)\n",
    "    w_pad = (target_dim - width) // 2\n",
    "    h_pad = (target_dim - height) // 2\n",
    "    transform = transforms.Compose([\n",
    "        transforms.Pad(padding=(w_pad, h_pad)),\n",
    "        transforms.Resize((224, 224)),\n",
    "        transforms.ToTensor(),\n",
    "        transforms.Normalize(mean=[0.485, 0.456, 0.406],\n",
    "                             std=[0.229, 0.224, 0.225])\n",
    "    ])\n",
    "    return transform"
   ]
  },
  {
   "cell_type": "code",
   "execution_count": 6,
   "id": "706043f6",
   "metadata": {},
   "outputs": [],
   "source": [
    "def get_image_embeddings(image: Path) -> List[float]:\n",
    "    input_image = Image.open(image).convert(\"RGB\")\n",
    "    preprocess = get_transform(input_image.width, input_image.height)\n",
    "    input_tensor = preprocess(input_image)\n",
    "    input_batch = input_tensor.unsqueeze(0)\n",
    "\n",
    "    if torch.cuda.is_available():\n",
    "        input_batch = input_batch.to('cuda')\n",
    "        model.to('cuda')\n",
    "\n",
    "    with torch.no_grad():\n",
    "        output = model(input_batch)\n",
    "\n",
    "    return output[0].cpu().detach().tolist()"
   ]
  },
  {
   "cell_type": "code",
   "execution_count": 7,
   "id": "ed15c368",
   "metadata": {},
   "outputs": [
    {
     "name": "stdout",
     "output_type": "stream",
     "text": [
      "Loaded pretrained weights for efficientnet-b0\n"
     ]
    },
    {
     "name": "stderr",
     "output_type": "stream",
     "text": [
      "100%|████████████████████████████████████████████████████████████████████████████████| 839/839 [00:22<00:00, 37.61it/s]\n"
     ]
    },
    {
     "data": {
      "text/plain": [
       "7650857"
      ]
     },
     "execution_count": 7,
     "metadata": {},
     "output_type": "execute_result"
    }
   ],
   "source": [
    "import glob\n",
    "\n",
    "# Input and output paths\n",
    "input_path = \"data/extracted/*/*.jpg\"\n",
    "output_path = \"data/embeddings_efficientnetB0.pkl\"\n",
    "\n",
    "# Get a list of image paths using glob\n",
    "image_paths = glob.glob(input_path)\n",
    "\n",
    "# Process the images and save the embeddings\n",
    "model = get_model()\n",
    "mapping = {str(i): get_image_embeddings(image=i) for i in tqdm(sorted(image_paths))}\n",
    "output_file = Path(output_path)\n",
    "output_file.write_bytes(pickle.dumps(mapping))"
   ]
  },
  {
   "cell_type": "code",
   "execution_count": 11,
   "id": "54192b7f",
   "metadata": {},
   "outputs": [
    {
     "name": "stdout",
     "output_type": "stream",
     "text": [
      "EfficientNet(\n",
      "  (_conv_stem): Conv2dStaticSamePadding(\n",
      "    3, 32, kernel_size=(3, 3), stride=(2, 2), bias=False\n",
      "    (static_padding): ZeroPad2d((0, 1, 0, 1))\n",
      "  )\n",
      "  (_bn0): BatchNorm2d(32, eps=0.001, momentum=0.010000000000000009, affine=True, track_running_stats=True)\n",
      "  (_blocks): ModuleList(\n",
      "    (0): MBConvBlock(\n",
      "      (_depthwise_conv): Conv2dStaticSamePadding(\n",
      "        32, 32, kernel_size=(3, 3), stride=[1, 1], groups=32, bias=False\n",
      "        (static_padding): ZeroPad2d((1, 1, 1, 1))\n",
      "      )\n",
      "      (_bn1): BatchNorm2d(32, eps=0.001, momentum=0.010000000000000009, affine=True, track_running_stats=True)\n",
      "      (_se_reduce): Conv2dStaticSamePadding(\n",
      "        32, 8, kernel_size=(1, 1), stride=(1, 1)\n",
      "        (static_padding): Identity()\n",
      "      )\n",
      "      (_se_expand): Conv2dStaticSamePadding(\n",
      "        8, 32, kernel_size=(1, 1), stride=(1, 1)\n",
      "        (static_padding): Identity()\n",
      "      )\n",
      "      (_project_conv): Conv2dStaticSamePadding(\n",
      "        32, 16, kernel_size=(1, 1), stride=(1, 1), bias=False\n",
      "        (static_padding): Identity()\n",
      "      )\n",
      "      (_bn2): BatchNorm2d(16, eps=0.001, momentum=0.010000000000000009, affine=True, track_running_stats=True)\n",
      "      (_swish): MemoryEfficientSwish()\n",
      "    )\n",
      "    (1): MBConvBlock(\n",
      "      (_expand_conv): Conv2dStaticSamePadding(\n",
      "        16, 96, kernel_size=(1, 1), stride=(1, 1), bias=False\n",
      "        (static_padding): Identity()\n",
      "      )\n",
      "      (_bn0): BatchNorm2d(96, eps=0.001, momentum=0.010000000000000009, affine=True, track_running_stats=True)\n",
      "      (_depthwise_conv): Conv2dStaticSamePadding(\n",
      "        96, 96, kernel_size=(3, 3), stride=[2, 2], groups=96, bias=False\n",
      "        (static_padding): ZeroPad2d((0, 1, 0, 1))\n",
      "      )\n",
      "      (_bn1): BatchNorm2d(96, eps=0.001, momentum=0.010000000000000009, affine=True, track_running_stats=True)\n",
      "      (_se_reduce): Conv2dStaticSamePadding(\n",
      "        96, 4, kernel_size=(1, 1), stride=(1, 1)\n",
      "        (static_padding): Identity()\n",
      "      )\n",
      "      (_se_expand): Conv2dStaticSamePadding(\n",
      "        4, 96, kernel_size=(1, 1), stride=(1, 1)\n",
      "        (static_padding): Identity()\n",
      "      )\n",
      "      (_project_conv): Conv2dStaticSamePadding(\n",
      "        96, 24, kernel_size=(1, 1), stride=(1, 1), bias=False\n",
      "        (static_padding): Identity()\n",
      "      )\n",
      "      (_bn2): BatchNorm2d(24, eps=0.001, momentum=0.010000000000000009, affine=True, track_running_stats=True)\n",
      "      (_swish): MemoryEfficientSwish()\n",
      "    )\n",
      "    (2): MBConvBlock(\n",
      "      (_expand_conv): Conv2dStaticSamePadding(\n",
      "        24, 144, kernel_size=(1, 1), stride=(1, 1), bias=False\n",
      "        (static_padding): Identity()\n",
      "      )\n",
      "      (_bn0): BatchNorm2d(144, eps=0.001, momentum=0.010000000000000009, affine=True, track_running_stats=True)\n",
      "      (_depthwise_conv): Conv2dStaticSamePadding(\n",
      "        144, 144, kernel_size=(3, 3), stride=(1, 1), groups=144, bias=False\n",
      "        (static_padding): ZeroPad2d((1, 1, 1, 1))\n",
      "      )\n",
      "      (_bn1): BatchNorm2d(144, eps=0.001, momentum=0.010000000000000009, affine=True, track_running_stats=True)\n",
      "      (_se_reduce): Conv2dStaticSamePadding(\n",
      "        144, 6, kernel_size=(1, 1), stride=(1, 1)\n",
      "        (static_padding): Identity()\n",
      "      )\n",
      "      (_se_expand): Conv2dStaticSamePadding(\n",
      "        6, 144, kernel_size=(1, 1), stride=(1, 1)\n",
      "        (static_padding): Identity()\n",
      "      )\n",
      "      (_project_conv): Conv2dStaticSamePadding(\n",
      "        144, 24, kernel_size=(1, 1), stride=(1, 1), bias=False\n",
      "        (static_padding): Identity()\n",
      "      )\n",
      "      (_bn2): BatchNorm2d(24, eps=0.001, momentum=0.010000000000000009, affine=True, track_running_stats=True)\n",
      "      (_swish): MemoryEfficientSwish()\n",
      "    )\n",
      "    (3): MBConvBlock(\n",
      "      (_expand_conv): Conv2dStaticSamePadding(\n",
      "        24, 144, kernel_size=(1, 1), stride=(1, 1), bias=False\n",
      "        (static_padding): Identity()\n",
      "      )\n",
      "      (_bn0): BatchNorm2d(144, eps=0.001, momentum=0.010000000000000009, affine=True, track_running_stats=True)\n",
      "      (_depthwise_conv): Conv2dStaticSamePadding(\n",
      "        144, 144, kernel_size=(5, 5), stride=[2, 2], groups=144, bias=False\n",
      "        (static_padding): ZeroPad2d((1, 2, 1, 2))\n",
      "      )\n",
      "      (_bn1): BatchNorm2d(144, eps=0.001, momentum=0.010000000000000009, affine=True, track_running_stats=True)\n",
      "      (_se_reduce): Conv2dStaticSamePadding(\n",
      "        144, 6, kernel_size=(1, 1), stride=(1, 1)\n",
      "        (static_padding): Identity()\n",
      "      )\n",
      "      (_se_expand): Conv2dStaticSamePadding(\n",
      "        6, 144, kernel_size=(1, 1), stride=(1, 1)\n",
      "        (static_padding): Identity()\n",
      "      )\n",
      "      (_project_conv): Conv2dStaticSamePadding(\n",
      "        144, 40, kernel_size=(1, 1), stride=(1, 1), bias=False\n",
      "        (static_padding): Identity()\n",
      "      )\n",
      "      (_bn2): BatchNorm2d(40, eps=0.001, momentum=0.010000000000000009, affine=True, track_running_stats=True)\n",
      "      (_swish): MemoryEfficientSwish()\n",
      "    )\n",
      "    (4): MBConvBlock(\n",
      "      (_expand_conv): Conv2dStaticSamePadding(\n",
      "        40, 240, kernel_size=(1, 1), stride=(1, 1), bias=False\n",
      "        (static_padding): Identity()\n",
      "      )\n",
      "      (_bn0): BatchNorm2d(240, eps=0.001, momentum=0.010000000000000009, affine=True, track_running_stats=True)\n",
      "      (_depthwise_conv): Conv2dStaticSamePadding(\n",
      "        240, 240, kernel_size=(5, 5), stride=(1, 1), groups=240, bias=False\n",
      "        (static_padding): ZeroPad2d((2, 2, 2, 2))\n",
      "      )\n",
      "      (_bn1): BatchNorm2d(240, eps=0.001, momentum=0.010000000000000009, affine=True, track_running_stats=True)\n",
      "      (_se_reduce): Conv2dStaticSamePadding(\n",
      "        240, 10, kernel_size=(1, 1), stride=(1, 1)\n",
      "        (static_padding): Identity()\n",
      "      )\n",
      "      (_se_expand): Conv2dStaticSamePadding(\n",
      "        10, 240, kernel_size=(1, 1), stride=(1, 1)\n",
      "        (static_padding): Identity()\n",
      "      )\n",
      "      (_project_conv): Conv2dStaticSamePadding(\n",
      "        240, 40, kernel_size=(1, 1), stride=(1, 1), bias=False\n",
      "        (static_padding): Identity()\n",
      "      )\n",
      "      (_bn2): BatchNorm2d(40, eps=0.001, momentum=0.010000000000000009, affine=True, track_running_stats=True)\n",
      "      (_swish): MemoryEfficientSwish()\n",
      "    )\n",
      "    (5): MBConvBlock(\n",
      "      (_expand_conv): Conv2dStaticSamePadding(\n",
      "        40, 240, kernel_size=(1, 1), stride=(1, 1), bias=False\n",
      "        (static_padding): Identity()\n",
      "      )\n",
      "      (_bn0): BatchNorm2d(240, eps=0.001, momentum=0.010000000000000009, affine=True, track_running_stats=True)\n",
      "      (_depthwise_conv): Conv2dStaticSamePadding(\n",
      "        240, 240, kernel_size=(3, 3), stride=[2, 2], groups=240, bias=False\n",
      "        (static_padding): ZeroPad2d((0, 1, 0, 1))\n",
      "      )\n",
      "      (_bn1): BatchNorm2d(240, eps=0.001, momentum=0.010000000000000009, affine=True, track_running_stats=True)\n",
      "      (_se_reduce): Conv2dStaticSamePadding(\n",
      "        240, 10, kernel_size=(1, 1), stride=(1, 1)\n",
      "        (static_padding): Identity()\n",
      "      )\n",
      "      (_se_expand): Conv2dStaticSamePadding(\n",
      "        10, 240, kernel_size=(1, 1), stride=(1, 1)\n",
      "        (static_padding): Identity()\n",
      "      )\n",
      "      (_project_conv): Conv2dStaticSamePadding(\n",
      "        240, 80, kernel_size=(1, 1), stride=(1, 1), bias=False\n",
      "        (static_padding): Identity()\n",
      "      )\n",
      "      (_bn2): BatchNorm2d(80, eps=0.001, momentum=0.010000000000000009, affine=True, track_running_stats=True)\n",
      "      (_swish): MemoryEfficientSwish()\n",
      "    )\n",
      "    (6): MBConvBlock(\n",
      "      (_expand_conv): Conv2dStaticSamePadding(\n",
      "        80, 480, kernel_size=(1, 1), stride=(1, 1), bias=False\n",
      "        (static_padding): Identity()\n",
      "      )\n",
      "      (_bn0): BatchNorm2d(480, eps=0.001, momentum=0.010000000000000009, affine=True, track_running_stats=True)\n",
      "      (_depthwise_conv): Conv2dStaticSamePadding(\n",
      "        480, 480, kernel_size=(3, 3), stride=(1, 1), groups=480, bias=False\n",
      "        (static_padding): ZeroPad2d((1, 1, 1, 1))\n",
      "      )\n",
      "      (_bn1): BatchNorm2d(480, eps=0.001, momentum=0.010000000000000009, affine=True, track_running_stats=True)\n",
      "      (_se_reduce): Conv2dStaticSamePadding(\n",
      "        480, 20, kernel_size=(1, 1), stride=(1, 1)\n",
      "        (static_padding): Identity()\n",
      "      )\n",
      "      (_se_expand): Conv2dStaticSamePadding(\n",
      "        20, 480, kernel_size=(1, 1), stride=(1, 1)\n",
      "        (static_padding): Identity()\n",
      "      )\n",
      "      (_project_conv): Conv2dStaticSamePadding(\n",
      "        480, 80, kernel_size=(1, 1), stride=(1, 1), bias=False\n",
      "        (static_padding): Identity()\n",
      "      )\n",
      "      (_bn2): BatchNorm2d(80, eps=0.001, momentum=0.010000000000000009, affine=True, track_running_stats=True)\n",
      "      (_swish): MemoryEfficientSwish()\n",
      "    )\n",
      "    (7): MBConvBlock(\n",
      "      (_expand_conv): Conv2dStaticSamePadding(\n",
      "        80, 480, kernel_size=(1, 1), stride=(1, 1), bias=False\n",
      "        (static_padding): Identity()\n",
      "      )\n",
      "      (_bn0): BatchNorm2d(480, eps=0.001, momentum=0.010000000000000009, affine=True, track_running_stats=True)\n",
      "      (_depthwise_conv): Conv2dStaticSamePadding(\n",
      "        480, 480, kernel_size=(3, 3), stride=(1, 1), groups=480, bias=False\n",
      "        (static_padding): ZeroPad2d((1, 1, 1, 1))\n",
      "      )\n",
      "      (_bn1): BatchNorm2d(480, eps=0.001, momentum=0.010000000000000009, affine=True, track_running_stats=True)\n",
      "      (_se_reduce): Conv2dStaticSamePadding(\n",
      "        480, 20, kernel_size=(1, 1), stride=(1, 1)\n",
      "        (static_padding): Identity()\n",
      "      )\n",
      "      (_se_expand): Conv2dStaticSamePadding(\n",
      "        20, 480, kernel_size=(1, 1), stride=(1, 1)\n",
      "        (static_padding): Identity()\n",
      "      )\n",
      "      (_project_conv): Conv2dStaticSamePadding(\n",
      "        480, 80, kernel_size=(1, 1), stride=(1, 1), bias=False\n",
      "        (static_padding): Identity()\n",
      "      )\n",
      "      (_bn2): BatchNorm2d(80, eps=0.001, momentum=0.010000000000000009, affine=True, track_running_stats=True)\n",
      "      (_swish): MemoryEfficientSwish()\n",
      "    )\n",
      "    (8): MBConvBlock(\n",
      "      (_expand_conv): Conv2dStaticSamePadding(\n",
      "        80, 480, kernel_size=(1, 1), stride=(1, 1), bias=False\n",
      "        (static_padding): Identity()\n",
      "      )\n",
      "      (_bn0): BatchNorm2d(480, eps=0.001, momentum=0.010000000000000009, affine=True, track_running_stats=True)\n",
      "      (_depthwise_conv): Conv2dStaticSamePadding(\n",
      "        480, 480, kernel_size=(5, 5), stride=[1, 1], groups=480, bias=False\n",
      "        (static_padding): ZeroPad2d((2, 2, 2, 2))\n",
      "      )\n",
      "      (_bn1): BatchNorm2d(480, eps=0.001, momentum=0.010000000000000009, affine=True, track_running_stats=True)\n",
      "      (_se_reduce): Conv2dStaticSamePadding(\n",
      "        480, 20, kernel_size=(1, 1), stride=(1, 1)\n",
      "        (static_padding): Identity()\n",
      "      )\n",
      "      (_se_expand): Conv2dStaticSamePadding(\n",
      "        20, 480, kernel_size=(1, 1), stride=(1, 1)\n",
      "        (static_padding): Identity()\n",
      "      )\n",
      "      (_project_conv): Conv2dStaticSamePadding(\n",
      "        480, 112, kernel_size=(1, 1), stride=(1, 1), bias=False\n",
      "        (static_padding): Identity()\n",
      "      )\n",
      "      (_bn2): BatchNorm2d(112, eps=0.001, momentum=0.010000000000000009, affine=True, track_running_stats=True)\n",
      "      (_swish): MemoryEfficientSwish()\n",
      "    )\n",
      "    (9): MBConvBlock(\n",
      "      (_expand_conv): Conv2dStaticSamePadding(\n",
      "        112, 672, kernel_size=(1, 1), stride=(1, 1), bias=False\n",
      "        (static_padding): Identity()\n",
      "      )\n",
      "      (_bn0): BatchNorm2d(672, eps=0.001, momentum=0.010000000000000009, affine=True, track_running_stats=True)\n",
      "      (_depthwise_conv): Conv2dStaticSamePadding(\n",
      "        672, 672, kernel_size=(5, 5), stride=(1, 1), groups=672, bias=False\n",
      "        (static_padding): ZeroPad2d((2, 2, 2, 2))\n",
      "      )\n",
      "      (_bn1): BatchNorm2d(672, eps=0.001, momentum=0.010000000000000009, affine=True, track_running_stats=True)\n",
      "      (_se_reduce): Conv2dStaticSamePadding(\n",
      "        672, 28, kernel_size=(1, 1), stride=(1, 1)\n",
      "        (static_padding): Identity()\n",
      "      )\n",
      "      (_se_expand): Conv2dStaticSamePadding(\n",
      "        28, 672, kernel_size=(1, 1), stride=(1, 1)\n",
      "        (static_padding): Identity()\n",
      "      )\n",
      "      (_project_conv): Conv2dStaticSamePadding(\n",
      "        672, 112, kernel_size=(1, 1), stride=(1, 1), bias=False\n",
      "        (static_padding): Identity()\n",
      "      )\n",
      "      (_bn2): BatchNorm2d(112, eps=0.001, momentum=0.010000000000000009, affine=True, track_running_stats=True)\n",
      "      (_swish): MemoryEfficientSwish()\n",
      "    )\n",
      "    (10): MBConvBlock(\n",
      "      (_expand_conv): Conv2dStaticSamePadding(\n",
      "        112, 672, kernel_size=(1, 1), stride=(1, 1), bias=False\n",
      "        (static_padding): Identity()\n",
      "      )\n",
      "      (_bn0): BatchNorm2d(672, eps=0.001, momentum=0.010000000000000009, affine=True, track_running_stats=True)\n",
      "      (_depthwise_conv): Conv2dStaticSamePadding(\n",
      "        672, 672, kernel_size=(5, 5), stride=(1, 1), groups=672, bias=False\n",
      "        (static_padding): ZeroPad2d((2, 2, 2, 2))\n",
      "      )\n",
      "      (_bn1): BatchNorm2d(672, eps=0.001, momentum=0.010000000000000009, affine=True, track_running_stats=True)\n",
      "      (_se_reduce): Conv2dStaticSamePadding(\n",
      "        672, 28, kernel_size=(1, 1), stride=(1, 1)\n",
      "        (static_padding): Identity()\n",
      "      )\n",
      "      (_se_expand): Conv2dStaticSamePadding(\n",
      "        28, 672, kernel_size=(1, 1), stride=(1, 1)\n",
      "        (static_padding): Identity()\n",
      "      )\n",
      "      (_project_conv): Conv2dStaticSamePadding(\n",
      "        672, 112, kernel_size=(1, 1), stride=(1, 1), bias=False\n",
      "        (static_padding): Identity()\n",
      "      )\n",
      "      (_bn2): BatchNorm2d(112, eps=0.001, momentum=0.010000000000000009, affine=True, track_running_stats=True)\n",
      "      (_swish): MemoryEfficientSwish()\n",
      "    )\n",
      "    (11): MBConvBlock(\n",
      "      (_expand_conv): Conv2dStaticSamePadding(\n",
      "        112, 672, kernel_size=(1, 1), stride=(1, 1), bias=False\n",
      "        (static_padding): Identity()\n",
      "      )\n",
      "      (_bn0): BatchNorm2d(672, eps=0.001, momentum=0.010000000000000009, affine=True, track_running_stats=True)\n",
      "      (_depthwise_conv): Conv2dStaticSamePadding(\n",
      "        672, 672, kernel_size=(5, 5), stride=[2, 2], groups=672, bias=False\n",
      "        (static_padding): ZeroPad2d((1, 2, 1, 2))\n",
      "      )\n",
      "      (_bn1): BatchNorm2d(672, eps=0.001, momentum=0.010000000000000009, affine=True, track_running_stats=True)\n",
      "      (_se_reduce): Conv2dStaticSamePadding(\n",
      "        672, 28, kernel_size=(1, 1), stride=(1, 1)\n",
      "        (static_padding): Identity()\n",
      "      )\n",
      "      (_se_expand): Conv2dStaticSamePadding(\n",
      "        28, 672, kernel_size=(1, 1), stride=(1, 1)\n",
      "        (static_padding): Identity()\n",
      "      )\n",
      "      (_project_conv): Conv2dStaticSamePadding(\n",
      "        672, 192, kernel_size=(1, 1), stride=(1, 1), bias=False\n",
      "        (static_padding): Identity()\n",
      "      )\n",
      "      (_bn2): BatchNorm2d(192, eps=0.001, momentum=0.010000000000000009, affine=True, track_running_stats=True)\n",
      "      (_swish): MemoryEfficientSwish()\n",
      "    )\n",
      "    (12): MBConvBlock(\n",
      "      (_expand_conv): Conv2dStaticSamePadding(\n",
      "        192, 1152, kernel_size=(1, 1), stride=(1, 1), bias=False\n",
      "        (static_padding): Identity()\n",
      "      )\n",
      "      (_bn0): BatchNorm2d(1152, eps=0.001, momentum=0.010000000000000009, affine=True, track_running_stats=True)\n",
      "      (_depthwise_conv): Conv2dStaticSamePadding(\n",
      "        1152, 1152, kernel_size=(5, 5), stride=(1, 1), groups=1152, bias=False\n",
      "        (static_padding): ZeroPad2d((2, 2, 2, 2))\n",
      "      )\n",
      "      (_bn1): BatchNorm2d(1152, eps=0.001, momentum=0.010000000000000009, affine=True, track_running_stats=True)\n",
      "      (_se_reduce): Conv2dStaticSamePadding(\n",
      "        1152, 48, kernel_size=(1, 1), stride=(1, 1)\n",
      "        (static_padding): Identity()\n",
      "      )\n",
      "      (_se_expand): Conv2dStaticSamePadding(\n",
      "        48, 1152, kernel_size=(1, 1), stride=(1, 1)\n",
      "        (static_padding): Identity()\n",
      "      )\n",
      "      (_project_conv): Conv2dStaticSamePadding(\n",
      "        1152, 192, kernel_size=(1, 1), stride=(1, 1), bias=False\n",
      "        (static_padding): Identity()\n",
      "      )\n",
      "      (_bn2): BatchNorm2d(192, eps=0.001, momentum=0.010000000000000009, affine=True, track_running_stats=True)\n",
      "      (_swish): MemoryEfficientSwish()\n",
      "    )\n",
      "    (13): MBConvBlock(\n",
      "      (_expand_conv): Conv2dStaticSamePadding(\n",
      "        192, 1152, kernel_size=(1, 1), stride=(1, 1), bias=False\n",
      "        (static_padding): Identity()\n",
      "      )\n",
      "      (_bn0): BatchNorm2d(1152, eps=0.001, momentum=0.010000000000000009, affine=True, track_running_stats=True)\n",
      "      (_depthwise_conv): Conv2dStaticSamePadding(\n",
      "        1152, 1152, kernel_size=(5, 5), stride=(1, 1), groups=1152, bias=False\n",
      "        (static_padding): ZeroPad2d((2, 2, 2, 2))\n",
      "      )\n",
      "      (_bn1): BatchNorm2d(1152, eps=0.001, momentum=0.010000000000000009, affine=True, track_running_stats=True)\n",
      "      (_se_reduce): Conv2dStaticSamePadding(\n",
      "        1152, 48, kernel_size=(1, 1), stride=(1, 1)\n",
      "        (static_padding): Identity()\n",
      "      )\n",
      "      (_se_expand): Conv2dStaticSamePadding(\n",
      "        48, 1152, kernel_size=(1, 1), stride=(1, 1)\n",
      "        (static_padding): Identity()\n",
      "      )\n",
      "      (_project_conv): Conv2dStaticSamePadding(\n",
      "        1152, 192, kernel_size=(1, 1), stride=(1, 1), bias=False\n",
      "        (static_padding): Identity()\n",
      "      )\n",
      "      (_bn2): BatchNorm2d(192, eps=0.001, momentum=0.010000000000000009, affine=True, track_running_stats=True)\n",
      "      (_swish): MemoryEfficientSwish()\n",
      "    )\n",
      "    (14): MBConvBlock(\n",
      "      (_expand_conv): Conv2dStaticSamePadding(\n",
      "        192, 1152, kernel_size=(1, 1), stride=(1, 1), bias=False\n",
      "        (static_padding): Identity()\n",
      "      )\n",
      "      (_bn0): BatchNorm2d(1152, eps=0.001, momentum=0.010000000000000009, affine=True, track_running_stats=True)\n",
      "      (_depthwise_conv): Conv2dStaticSamePadding(\n",
      "        1152, 1152, kernel_size=(5, 5), stride=(1, 1), groups=1152, bias=False\n",
      "        (static_padding): ZeroPad2d((2, 2, 2, 2))\n",
      "      )\n",
      "      (_bn1): BatchNorm2d(1152, eps=0.001, momentum=0.010000000000000009, affine=True, track_running_stats=True)\n",
      "      (_se_reduce): Conv2dStaticSamePadding(\n",
      "        1152, 48, kernel_size=(1, 1), stride=(1, 1)\n",
      "        (static_padding): Identity()\n",
      "      )\n",
      "      (_se_expand): Conv2dStaticSamePadding(\n",
      "        48, 1152, kernel_size=(1, 1), stride=(1, 1)\n",
      "        (static_padding): Identity()\n",
      "      )\n",
      "      (_project_conv): Conv2dStaticSamePadding(\n",
      "        1152, 192, kernel_size=(1, 1), stride=(1, 1), bias=False\n",
      "        (static_padding): Identity()\n",
      "      )\n",
      "      (_bn2): BatchNorm2d(192, eps=0.001, momentum=0.010000000000000009, affine=True, track_running_stats=True)\n",
      "      (_swish): MemoryEfficientSwish()\n",
      "    )\n",
      "    (15): MBConvBlock(\n",
      "      (_expand_conv): Conv2dStaticSamePadding(\n",
      "        192, 1152, kernel_size=(1, 1), stride=(1, 1), bias=False\n",
      "        (static_padding): Identity()\n",
      "      )\n",
      "      (_bn0): BatchNorm2d(1152, eps=0.001, momentum=0.010000000000000009, affine=True, track_running_stats=True)\n",
      "      (_depthwise_conv): Conv2dStaticSamePadding(\n",
      "        1152, 1152, kernel_size=(3, 3), stride=[1, 1], groups=1152, bias=False\n",
      "        (static_padding): ZeroPad2d((1, 1, 1, 1))\n",
      "      )\n",
      "      (_bn1): BatchNorm2d(1152, eps=0.001, momentum=0.010000000000000009, affine=True, track_running_stats=True)\n",
      "      (_se_reduce): Conv2dStaticSamePadding(\n",
      "        1152, 48, kernel_size=(1, 1), stride=(1, 1)\n",
      "        (static_padding): Identity()\n",
      "      )\n",
      "      (_se_expand): Conv2dStaticSamePadding(\n",
      "        48, 1152, kernel_size=(1, 1), stride=(1, 1)\n",
      "        (static_padding): Identity()\n",
      "      )\n",
      "      (_project_conv): Conv2dStaticSamePadding(\n",
      "        1152, 320, kernel_size=(1, 1), stride=(1, 1), bias=False\n",
      "        (static_padding): Identity()\n",
      "      )\n",
      "      (_bn2): BatchNorm2d(320, eps=0.001, momentum=0.010000000000000009, affine=True, track_running_stats=True)\n",
      "      (_swish): MemoryEfficientSwish()\n",
      "    )\n",
      "  )\n",
      "  (_conv_head): Conv2dStaticSamePadding(\n",
      "    320, 1280, kernel_size=(1, 1), stride=(1, 1), bias=False\n",
      "    (static_padding): Identity()\n",
      "  )\n",
      "  (_bn1): BatchNorm2d(1280, eps=0.001, momentum=0.010000000000000009, affine=True, track_running_stats=True)\n",
      "  (_avg_pooling): AdaptiveAvgPool2d(output_size=1)\n",
      "  (_dropout): Dropout(p=0.2, inplace=False)\n",
      "  (_fc): Linear(in_features=1280, out_features=1000, bias=True)\n",
      "  (_swish): MemoryEfficientSwish()\n",
      ")\n"
     ]
    }
   ],
   "source": [
    "print(model)"
   ]
  },
  {
   "cell_type": "markdown",
   "id": "922300bd",
   "metadata": {},
   "source": [
    "# Reduce dimensionality"
   ]
  },
  {
   "cell_type": "code",
   "execution_count": 12,
   "id": "7d05787b",
   "metadata": {},
   "outputs": [],
   "source": [
    "import pickle\n",
    "from argparse import ArgumentParser\n",
    "from pathlib import Path\n",
    "from typing import List, Optional, Tuple\n",
    "\n",
    "import numpy as np\n",
    "from loguru import logger\n",
    "from sklearn.manifold import TSNE\n",
    "from tqdm import tqdm"
   ]
  },
  {
   "cell_type": "code",
   "execution_count": 13,
   "id": "265bed62",
   "metadata": {},
   "outputs": [],
   "source": [
    "def load_embeddings(file: Path) -> Tuple[List[Path], np.ndarray]:\n",
    "    embeddings = pickle.loads(file.read_bytes())\n",
    "    files, vectors = zip(*list(embeddings.items()))\n",
    "    return files, np.array(vectors)"
   ]
  },
  {
   "cell_type": "code",
   "execution_count": 14,
   "id": "a8b3dc7e",
   "metadata": {},
   "outputs": [],
   "source": [
    "def apply_tSNE(vectors: np.ndarray) -> np.ndarray:\n",
    "    tSNE = TSNE(n_components=2, random_state=42)\n",
    "    logger.info(f\"Applying {tSNE}\")\n",
    "    return tSNE.fit_transform(vectors)"
   ]
  },
  {
   "cell_type": "code",
   "execution_count": 15,
   "id": "78b88a0c",
   "metadata": {},
   "outputs": [],
   "source": [
    "def reduce_dimensionality(embeddings_file: Path, output_file: Path):\n",
    "    files, vectors = load_embeddings(file=embeddings_file)\n",
    "    points = apply_tSNE(vectors=vectors)\n",
    "    points_mapping = dict(zip(files, points))\n",
    "    output_file.write_bytes(pickle.dumps(points_mapping))"
   ]
  },
  {
   "cell_type": "code",
   "execution_count": 16,
   "id": "1c6511d2",
   "metadata": {},
   "outputs": [],
   "source": [
    "points_path= \"data/points_efficientnetb0.pkl\""
   ]
  },
  {
   "cell_type": "code",
   "execution_count": 17,
   "id": "fdfbab35",
   "metadata": {},
   "outputs": [
    {
     "name": "stderr",
     "output_type": "stream",
     "text": [
      "\u001b[32m2023-08-29 14:07:50.554\u001b[0m | \u001b[1mINFO    \u001b[0m | \u001b[36m__main__\u001b[0m:\u001b[36mapply_tSNE\u001b[0m:\u001b[36m3\u001b[0m - \u001b[1mApplying TSNE(random_state=42)\u001b[0m\n"
     ]
    }
   ],
   "source": [
    "reduce_dimensionality(\n",
    "    output_file= Path(points_path),\n",
    "    embeddings_file= Path(output_path))"
   ]
  },
  {
   "cell_type": "markdown",
   "id": "fa87a1ca",
   "metadata": {},
   "source": [
    "# Compute Clusters"
   ]
  },
  {
   "cell_type": "code",
   "execution_count": 18,
   "id": "9d060cb3",
   "metadata": {},
   "outputs": [],
   "source": [
    "from sklearn.cluster import KMeans\n",
    "from kneed import KneeLocator"
   ]
  },
  {
   "cell_type": "code",
   "execution_count": 19,
   "id": "53a6392a",
   "metadata": {},
   "outputs": [],
   "source": [
    "def make_clusters(vectors: np.ndarray, n_clusters: int) -> np.ndarray:\n",
    "    kMeans = KMeans(n_clusters=n_clusters, random_state=42)\n",
    "    logger.info(f\"Clustering with {kMeans}\")\n",
    "    return kMeans.fit_predict(vectors)"
   ]
  },
  {
   "cell_type": "code",
   "execution_count": 20,
   "id": "73ae1e72",
   "metadata": {},
   "outputs": [],
   "source": [
    "def find_optimal_number_of_clusters(values: List[int], data: np.ndarray) -> int:\n",
    "    logger.info(\"Finding optimal value for k ...\")\n",
    "    inertias = [KMeans(n_clusters=n, random_state=42).fit(data).inertia_ for n in tqdm(values)]\n",
    "    kneedle = KneeLocator(x=values, y=inertias, direction='decreasing', curve='convex')\n",
    "    logger.info(inertias)\n",
    "    logger.info(f\"Optimal k={kneedle.elbow}\")\n",
    "    return kneedle.knee"
   ]
  },
  {
   "cell_type": "code",
   "execution_count": 24,
   "id": "a9c9fee6",
   "metadata": {},
   "outputs": [],
   "source": [
    "def find_optimal_number_of_clusters(values: List[int], data: np.ndarray) -> int:\n",
    "    logger.info(\"Finding optimal value for k ...\")\n",
    "    inertias = [KMeans(n_clusters=n, random_state=42).fit(data).inertia_ for n in tqdm(values)]\n",
    "    kneedle = KneeLocator(x=values, y=inertias, direction='decreasing', curve='convex')\n",
    "    \n",
    "    # Plot the elbow curve\n",
    "    plt.figure(figsize=(8, 6))\n",
    "    plt.plot(values, inertias, marker='o')\n",
    "    plt.xlabel('Number of Clusters (k)')\n",
    "    plt.ylabel('Inertia')\n",
    "    plt.title('Elbow Method for Optimal k')\n",
    "    plt.vlines(kneedle.elbow, plt.ylim()[0], plt.ylim()[1], linestyles='dashed', colors='red')\n",
    "    plt.annotate(f'Optimal k={kneedle.elbow}', (kneedle.elbow + 1, inertias[0]), color='red')\n",
    "    plt.show()\n",
    "\n",
    "    logger.info(inertias)\n",
    "    logger.info(f\"Optimal k={kneedle.elbow}\")\n",
    "    return kneedle.knee\n"
   ]
  },
  {
   "cell_type": "code",
   "execution_count": 21,
   "id": "9d51320a",
   "metadata": {},
   "outputs": [],
   "source": [
    "from sklearn.metrics import silhouette_score, calinski_harabasz_score, davies_bouldin_score"
   ]
  },
  {
   "cell_type": "code",
   "execution_count": 22,
   "id": "bb5fac20",
   "metadata": {},
   "outputs": [],
   "source": [
    "def compute_clusters(embeddings_file: Path, output_file: Path, clusters: Optional[int] = None):\n",
    "    files, vectors = load_embeddings(file=embeddings_file)\n",
    "    if clusters is None:\n",
    "        clusters = find_optimal_number_of_clusters(range(5, 45, 5), data=vectors)\n",
    "    clusters = make_clusters(vectors=vectors, n_clusters=clusters)\n",
    "    cluster_mapping = dict(zip(files, clusters))\n",
    "    output_file.write_bytes(pickle.dumps(cluster_mapping))\n",
    "    # Calculate evaluation metrics\n",
    "    silhouette_avg = silhouette_score(vectors, clusters)\n",
    "    calinski_harabasz = calinski_harabasz_score(vectors, clusters)\n",
    "    davies_bouldin = davies_bouldin_score(vectors, clusters)\n",
    "\n",
    "    print(f\"Silhouette Score: {silhouette_avg}\")\n",
    "    print(f\"Calinski-Harabasz Index: {calinski_harabasz}\")\n",
    "    print(f\"Davies-Bouldin Index: {davies_bouldin}\")"
   ]
  },
  {
   "cell_type": "code",
   "execution_count": 29,
   "id": "1b672aa9",
   "metadata": {},
   "outputs": [
    {
     "name": "stderr",
     "output_type": "stream",
     "text": [
      "\u001b[32m2023-08-29 14:13:27.918\u001b[0m | \u001b[1mINFO    \u001b[0m | \u001b[36m__main__\u001b[0m:\u001b[36mfind_optimal_number_of_clusters\u001b[0m:\u001b[36m2\u001b[0m - \u001b[1mFinding optimal value for k ...\u001b[0m\n",
      "  0%|                                                                                            | 0/8 [00:00<?, ?it/s]C:\\Users\\pavan\\anaconda3\\envs\\anaconda3\\lib\\site-packages\\sklearn\\cluster\\_kmeans.py:870: FutureWarning: The default value of `n_init` will change from 10 to 'auto' in 1.4. Set the value of `n_init` explicitly to suppress the warning\n",
      "  warnings.warn(\n",
      "C:\\Users\\pavan\\anaconda3\\envs\\anaconda3\\lib\\site-packages\\sklearn\\cluster\\_kmeans.py:1382: UserWarning: KMeans is known to have a memory leak on Windows with MKL, when there are less chunks than available threads. You can avoid it by setting the environment variable OMP_NUM_THREADS=4.\n",
      "  warnings.warn(\n",
      " 12%|██████████▌                                                                         | 1/8 [00:00<00:02,  3.09it/s]C:\\Users\\pavan\\anaconda3\\envs\\anaconda3\\lib\\site-packages\\sklearn\\cluster\\_kmeans.py:870: FutureWarning: The default value of `n_init` will change from 10 to 'auto' in 1.4. Set the value of `n_init` explicitly to suppress the warning\n",
      "  warnings.warn(\n",
      "C:\\Users\\pavan\\anaconda3\\envs\\anaconda3\\lib\\site-packages\\sklearn\\cluster\\_kmeans.py:1382: UserWarning: KMeans is known to have a memory leak on Windows with MKL, when there are less chunks than available threads. You can avoid it by setting the environment variable OMP_NUM_THREADS=4.\n",
      "  warnings.warn(\n",
      " 25%|█████████████████████                                                               | 2/8 [00:00<00:02,  2.77it/s]C:\\Users\\pavan\\anaconda3\\envs\\anaconda3\\lib\\site-packages\\sklearn\\cluster\\_kmeans.py:870: FutureWarning: The default value of `n_init` will change from 10 to 'auto' in 1.4. Set the value of `n_init` explicitly to suppress the warning\n",
      "  warnings.warn(\n",
      "C:\\Users\\pavan\\anaconda3\\envs\\anaconda3\\lib\\site-packages\\sklearn\\cluster\\_kmeans.py:1382: UserWarning: KMeans is known to have a memory leak on Windows with MKL, when there are less chunks than available threads. You can avoid it by setting the environment variable OMP_NUM_THREADS=4.\n",
      "  warnings.warn(\n",
      " 38%|███████████████████████████████▌                                                    | 3/8 [00:01<00:01,  2.53it/s]C:\\Users\\pavan\\anaconda3\\envs\\anaconda3\\lib\\site-packages\\sklearn\\cluster\\_kmeans.py:870: FutureWarning: The default value of `n_init` will change from 10 to 'auto' in 1.4. Set the value of `n_init` explicitly to suppress the warning\n",
      "  warnings.warn(\n",
      "C:\\Users\\pavan\\anaconda3\\envs\\anaconda3\\lib\\site-packages\\sklearn\\cluster\\_kmeans.py:1382: UserWarning: KMeans is known to have a memory leak on Windows with MKL, when there are less chunks than available threads. You can avoid it by setting the environment variable OMP_NUM_THREADS=4.\n",
      "  warnings.warn(\n",
      " 50%|██████████████████████████████████████████                                          | 4/8 [00:01<00:01,  2.30it/s]C:\\Users\\pavan\\anaconda3\\envs\\anaconda3\\lib\\site-packages\\sklearn\\cluster\\_kmeans.py:870: FutureWarning: The default value of `n_init` will change from 10 to 'auto' in 1.4. Set the value of `n_init` explicitly to suppress the warning\n",
      "  warnings.warn(\n",
      "C:\\Users\\pavan\\anaconda3\\envs\\anaconda3\\lib\\site-packages\\sklearn\\cluster\\_kmeans.py:1382: UserWarning: KMeans is known to have a memory leak on Windows with MKL, when there are less chunks than available threads. You can avoid it by setting the environment variable OMP_NUM_THREADS=4.\n",
      "  warnings.warn(\n",
      " 62%|████████████████████████████████████████████████████▌                               | 5/8 [00:02<00:01,  2.06it/s]C:\\Users\\pavan\\anaconda3\\envs\\anaconda3\\lib\\site-packages\\sklearn\\cluster\\_kmeans.py:870: FutureWarning: The default value of `n_init` will change from 10 to 'auto' in 1.4. Set the value of `n_init` explicitly to suppress the warning\n",
      "  warnings.warn(\n",
      "C:\\Users\\pavan\\anaconda3\\envs\\anaconda3\\lib\\site-packages\\sklearn\\cluster\\_kmeans.py:1382: UserWarning: KMeans is known to have a memory leak on Windows with MKL, when there are less chunks than available threads. You can avoid it by setting the environment variable OMP_NUM_THREADS=4.\n",
      "  warnings.warn(\n",
      " 75%|███████████████████████████████████████████████████████████████                     | 6/8 [00:02<00:01,  1.93it/s]C:\\Users\\pavan\\anaconda3\\envs\\anaconda3\\lib\\site-packages\\sklearn\\cluster\\_kmeans.py:870: FutureWarning: The default value of `n_init` will change from 10 to 'auto' in 1.4. Set the value of `n_init` explicitly to suppress the warning\n",
      "  warnings.warn(\n",
      "C:\\Users\\pavan\\anaconda3\\envs\\anaconda3\\lib\\site-packages\\sklearn\\cluster\\_kmeans.py:1382: UserWarning: KMeans is known to have a memory leak on Windows with MKL, when there are less chunks than available threads. You can avoid it by setting the environment variable OMP_NUM_THREADS=4.\n",
      "  warnings.warn(\n",
      " 88%|█████████████████████████████████████████████████████████████████████████▌          | 7/8 [00:03<00:00,  1.75it/s]C:\\Users\\pavan\\anaconda3\\envs\\anaconda3\\lib\\site-packages\\sklearn\\cluster\\_kmeans.py:870: FutureWarning: The default value of `n_init` will change from 10 to 'auto' in 1.4. Set the value of `n_init` explicitly to suppress the warning\n",
      "  warnings.warn(\n",
      "C:\\Users\\pavan\\anaconda3\\envs\\anaconda3\\lib\\site-packages\\sklearn\\cluster\\_kmeans.py:1382: UserWarning: KMeans is known to have a memory leak on Windows with MKL, when there are less chunks than available threads. You can avoid it by setting the environment variable OMP_NUM_THREADS=4.\n",
      "  warnings.warn(\n",
      "100%|████████████████████████████████████████████████████████████████████████████████████| 8/8 [00:04<00:00,  1.94it/s]\n"
     ]
    },
    {
     "data": {
      "image/png": "[encoded data removed]",
      "text/plain": [
       "<Figure size 800x600 with 1 Axes>"
      ]
     },
     "metadata": {},
     "output_type": "display_data"
    },
    {
     "name": "stderr",
     "output_type": "stream",
     "text": [
      "\u001b[32m2023-08-29 14:13:32.306\u001b[0m | \u001b[1mINFO    \u001b[0m | \u001b[36m__main__\u001b[0m:\u001b[36mfind_optimal_number_of_clusters\u001b[0m:\u001b[36m16\u001b[0m - \u001b[1m[170855.11600066742, 148556.10276415723, 136743.27164762854, 129025.34789030965, 123322.8633476067, 119056.82657242396, 115390.45930556835, 111829.74366774473]\u001b[0m\n",
      "\u001b[32m2023-08-29 14:13:32.306\u001b[0m | \u001b[1mINFO    \u001b[0m | \u001b[36m__main__\u001b[0m:\u001b[36mfind_optimal_number_of_clusters\u001b[0m:\u001b[36m17\u001b[0m - \u001b[1mOptimal k=15\u001b[0m\n",
      "\u001b[32m2023-08-29 14:13:32.306\u001b[0m | \u001b[1mINFO    \u001b[0m | \u001b[36m__main__\u001b[0m:\u001b[36mmake_clusters\u001b[0m:\u001b[36m3\u001b[0m - \u001b[1mClustering with KMeans(n_clusters=15, random_state=42)\u001b[0m\n",
      "C:\\Users\\pavan\\anaconda3\\envs\\anaconda3\\lib\\site-packages\\sklearn\\cluster\\_kmeans.py:870: FutureWarning: The default value of `n_init` will change from 10 to 'auto' in 1.4. Set the value of `n_init` explicitly to suppress the warning\n",
      "  warnings.warn(\n",
      "C:\\Users\\pavan\\anaconda3\\envs\\anaconda3\\lib\\site-packages\\sklearn\\cluster\\_kmeans.py:1382: UserWarning: KMeans is known to have a memory leak on Windows with MKL, when there are less chunks than available threads. You can avoid it by setting the environment variable OMP_NUM_THREADS=4.\n",
      "  warnings.warn(\n"
     ]
    },
    {
     "name": "stdout",
     "output_type": "stream",
     "text": [
      "Silhouette Score: 0.07573931349451339\n",
      "Calinski-Harabasz Index: 63.16621836577242\n",
      "Davies-Bouldin Index: 2.3667018252904444\n"
     ]
    }
   ],
   "source": [
    "compute_clusters(\n",
    "    embeddings_file=Path(\"data/embeddings_efficientnetB0.pkl\"),\n",
    "    output_file=Path(\"data/clusters_efficientb0.pkl\")\n",
    ")"
   ]
  },
  {
   "cell_type": "markdown",
   "id": "b2cfd0b8",
   "metadata": {},
   "source": [
    "# Export data to csv"
   ]
  },
  {
   "cell_type": "code",
   "execution_count": 30,
   "id": "5386dcfa",
   "metadata": {},
   "outputs": [],
   "source": [
    "import pandas as pd\n",
    "from collections import defaultdict"
   ]
  },
  {
   "cell_type": "code",
   "execution_count": 31,
   "id": "42ecce2b",
   "metadata": {},
   "outputs": [],
   "source": [
    "def load_file_contents(file: Path) -> Tuple[List[Path], List]:\n",
    "    return pickle.loads(file.read_bytes())"
   ]
  },
  {
   "cell_type": "code",
   "execution_count": 32,
   "id": "de771048",
   "metadata": {},
   "outputs": [],
   "source": [
    "def export_csv(clusters_file: Path, points_file: Path, output_file: Path):\n",
    "    clusters_data = load_file_contents(clusters_file)\n",
    "    points_data = load_file_contents(points_file)\n",
    "\n",
    "    data = defaultdict(dict)\n",
    "    for key, cluster in clusters_data.items():\n",
    "        data[key][\"cluster\"] = cluster\n",
    "        point = points_data[key]\n",
    "        data[key][\"point_x\"], data[key][\"point_y\"] = point\n",
    "\n",
    "    df: pd.DataFrame = pd.DataFrame.from_dict(data, orient=\"index\") \\\n",
    "        .rename_axis('cell_location') \\\n",
    "        .reset_index() \\\n",
    "        .assign(cell_location=lambda df: df.cell_location.apply(Path)) \\\n",
    "        .assign(parent_image=lambda df: df.cell_location.apply(lambda path: path.parent.name))\n",
    "\n",
    "    df.to_csv(output_file, index=False)"
   ]
  },
  {
   "cell_type": "code",
   "execution_count": 33,
   "id": "bd034dac",
   "metadata": {},
   "outputs": [],
   "source": [
    "export_csv(\n",
    "        clusters_file=Path(\"data/clusters_efficientb0.pkl\"),\n",
    "        points_file=Path(\"data/points_efficientnetb0.pkl\"),\n",
    "        output_file=Path(\"data/export_efficientnetb0.csv\"))"
   ]
  },
  {
   "cell_type": "markdown",
   "id": "0fbe188b",
   "metadata": {},
   "source": [
    "# Plots"
   ]
  },
  {
   "cell_type": "code",
   "execution_count": 34,
   "id": "52f2bf45",
   "metadata": {},
   "outputs": [],
   "source": [
    "from functools import partial\n",
    "from multiprocessing import Lock, cpu_count\n",
    "from multiprocessing.pool import ThreadPool\n",
    "import plotly.express as px\n",
    "import plotly.graph_objects as go\n",
    "from PIL import Image\n",
    "from sklearn.manifold import TSNE"
   ]
  },
  {
   "cell_type": "code",
   "execution_count": 35,
   "id": "ebb6720b",
   "metadata": {},
   "outputs": [],
   "source": [
    "def load_file_contents(file: Path) -> Tuple[List[Path], np.ndarray]:\n",
    "    data = pickle.loads(file.read_bytes())\n",
    "    files, points = zip(*list(data.items()))\n",
    "    return files, np.array(points)"
   ]
  },
  {
   "cell_type": "code",
   "execution_count": 36,
   "id": "b781375f",
   "metadata": {},
   "outputs": [],
   "source": [
    "lock = Lock()"
   ]
  },
  {
   "cell_type": "code",
   "execution_count": 37,
   "id": "29790359",
   "metadata": {},
   "outputs": [],
   "source": [
    "def create_figure_2d(points: np.ndarray, clusters: np.ndarray, images: List[Path], limit_images: int = 500) -> go.FigureWidget:\n",
    "    x = points[:, 0]\n",
    "    y = points[:, 1]\n",
    "    fig = px.scatter(x=x, y=y, color=clusters, opacity=0.75, size_max=5)\n",
    "    np.random.seed(42)\n",
    "    logger.info(\"Adding images to layout\")\n",
    "    with ThreadPool(cpu_count() * 4) as pool:\n",
    "        shuffled_data = np.random.permutation(list(zip(images, x, y)))\n",
    "        _ = list(tqdm(\n",
    "            pool.imap(\n",
    "                partial(add_image_to_layout, lock=lock, fig=fig),\n",
    "                shuffled_data[:limit_images]\n",
    "            ),\n",
    "            total=min(len(images), limit_images))\n",
    "        )\n",
    "    return fig"
   ]
  },
  {
   "cell_type": "code",
   "execution_count": 38,
   "id": "d1ca1fde",
   "metadata": {},
   "outputs": [],
   "source": [
    "def add_image_to_layout(image_x_y: Tuple[Path, float, float], fig: go.FigureWidget, lock: Lock):\n",
    "    image, x, y = image_x_y\n",
    "    pil_image = Image.open(image)\n",
    "    lock.acquire()\n",
    "    fig.add_layout_image(dict(\n",
    "        source=pil_image,\n",
    "        x=x,\n",
    "        y=y,\n",
    "        xref=\"x\",\n",
    "        yref=\"y\",\n",
    "        sizex=2,\n",
    "        sizey=2,\n",
    "        opacity=1,\n",
    "        xanchor=\"center\", yanchor=\"middle\",\n",
    "        layer=\"below\",\n",
    "    ))\n",
    "    lock.release()\n"
   ]
  },
  {
   "cell_type": "code",
   "execution_count": 39,
   "id": "be563504",
   "metadata": {},
   "outputs": [],
   "source": [
    "def create_figure(points: np.ndarray, clusters: np.ndarray, images: List[Path], limit_images: int) -> go.FigureWidget:\n",
    "    fig = create_figure_2d(points=points, clusters=clusters, images=images, limit_images=limit_images)\n",
    "    return fig"
   ]
  },
  {
   "cell_type": "code",
   "execution_count": 40,
   "id": "a7a1331e",
   "metadata": {},
   "outputs": [],
   "source": [
    "def prepare_plot(points_file: Path, clusters_file: Path, output_file: Path, limit_images: int):\n",
    "    points_files, points = load_file_contents(file=points_file)\n",
    "    _, clusters = load_file_contents(file=clusters_file)\n",
    "    fig: go.FigureWidget = create_figure(points=points, clusters=clusters, images=points_files, limit_images=limit_images)\n",
    "    output_file.write_text(fig.to_json())"
   ]
  },
  {
   "cell_type": "code",
   "execution_count": 41,
   "id": "435b4f21",
   "metadata": {},
   "outputs": [
    {
     "name": "stderr",
     "output_type": "stream",
     "text": [
      "\u001b[32m2023-08-29 14:28:39.272\u001b[0m | \u001b[1mINFO    \u001b[0m | \u001b[36m__main__\u001b[0m:\u001b[36mcreate_figure_2d\u001b[0m:\u001b[36m6\u001b[0m - \u001b[1mAdding images to layout\u001b[0m\n",
      "100%|████████████████████████████████████████████████████████████████████████████████| 839/839 [04:13<00:00,  3.31it/s]\n"
     ]
    }
   ],
   "source": [
    "prepare_plot(\n",
    "        output_file=Path(\"data/plot_efficientnetb0.json\"),\n",
    "        points_file=Path(\"data/points_efficientnetb0.pkl\"),\n",
    "        clusters_file=Path(\"data/clusters_efficientb0.pkl\"),\n",
    "        limit_images=10000 )"
   ]
  },
  {
   "cell_type": "code",
   "execution_count": 53,
   "id": "9bd259b8",
   "metadata": {},
   "outputs": [],
   "source": [
    "import json"
   ]
  },
  {
   "cell_type": "code",
   "execution_count": null,
   "id": "994efcf3",
   "metadata": {},
   "outputs": [],
   "source": []
  },
  {
   "cell_type": "markdown",
   "id": "51d53fbe",
   "metadata": {},
   "source": [
    "# Visualise Embeddings"
   ]
  },
  {
   "cell_type": "code",
   "execution_count": 42,
   "id": "621e81d6",
   "metadata": {},
   "outputs": [
    {
     "name": "stderr",
     "output_type": "stream",
     "text": [
      "C:\\Users\\pavan\\AppData\\Local\\Temp\\ipykernel_20048\\1277130376.py:3: UserWarning:\n",
      "\n",
      "\n",
      "The dash_core_components package is deprecated. Please replace\n",
      "`import dash_core_components as dcc` with `from dash import dcc`\n",
      "\n",
      "C:\\Users\\pavan\\AppData\\Local\\Temp\\ipykernel_20048\\1277130376.py:4: UserWarning:\n",
      "\n",
      "\n",
      "The dash_html_components package is deprecated. Please replace\n",
      "`import dash_html_components as html` with `from dash import html`\n",
      "\n"
     ]
    }
   ],
   "source": [
    "import json\n",
    "import dash\n",
    "import dash_core_components as dcc\n",
    "import dash_html_components as html\n",
    "from dash.dependencies import Input, Output\n",
    "from functools import lru_cache"
   ]
  },
  {
   "cell_type": "code",
   "execution_count": 43,
   "id": "afa0bf52",
   "metadata": {},
   "outputs": [],
   "source": [
    "external_stylesheets = ['https://codepen.io/chriddyp/pen/bWLwgP.css']\n",
    "app = dash.Dash(__name__, external_stylesheets=external_stylesheets)\n",
    "\n",
    "\n",
    "def load_figure(file: Path) -> go.Figure:\n",
    "    data = json.loads(file.read_text())\n",
    "    fig = go.Figure(data=data)\n",
    "    fig.update_traces(\n",
    "        marker_size=12,\n",
    "        selector=dict(mode='markers')\n",
    "    )\n",
    "    return fig"
   ]
  },
  {
   "cell_type": "code",
   "execution_count": 44,
   "id": "ce23b23d",
   "metadata": {},
   "outputs": [],
   "source": [
    "@lru_cache\n",
    "def load_file_contents(file: Path) -> List[Path]:\n",
    "    data = pickle.loads(file.read_bytes())\n",
    "    files, points = zip(*list(data.items()))\n",
    "    return files\n",
    "\n",
    "def prepare_dash(fig: go.FigureWidget) -> dash.Dash:\n",
    "    app.layout = html.Div([\n",
    "        html.Pre(id=\"selection-data\", style={\"fontSize\": \"22px\"}),\n",
    "        dcc.Graph(figure=fig, id=\"scatter-plot\", style={\"width\": \"100vw\", \"height\": \"100vh\"}),\n",
    "    ])\n",
    "    return app"
   ]
  },
  {
   "cell_type": "code",
   "execution_count": 45,
   "id": "59101ae3",
   "metadata": {},
   "outputs": [],
   "source": [
    "@app.callback(\n",
    "    Output(component_id='selection-data', component_property='children'),\n",
    "    Input(component_id='scatter-plot', component_property='clickData')\n",
    ")\n",
    "def handle_selection(data):\n",
    "    index = data['points'][0][\"pointIndex\"]\n",
    "    files = load_file_contents(Path(\"data/embeddings_efficientnetb0.pkl\"))\n",
    "    \n",
    "    return json.dumps(\n",
    "        {\n",
    "            \"cell\": files[index],\n",
    "            \"parent_image\": Path(files[index]).parent.name\n",
    "        }, indent=4\n",
    "    )"
   ]
  },
  {
   "cell_type": "code",
   "execution_count": 46,
   "id": "647eba30",
   "metadata": {},
   "outputs": [
    {
     "data": {
      "text/html": [
       "\n",
       "        <iframe\n",
       "            width=\"100%\"\n",
       "            height=\"650\"\n",
       "            src=\"http://127.0.0.1:8053/\"\n",
       "            frameborder=\"0\"\n",
       "            allowfullscreen\n",
       "            \n",
       "        ></iframe>\n",
       "        "
      ],
      "text/plain": [
       "<IPython.lib.display.IFrame at 0x1e94b0e14e0>"
      ]
     },
     "metadata": {},
     "output_type": "display_data"
    }
   ],
   "source": [
    "figure = load_figure(file=Path(\"data/plot_efficientnetb0.json\"))\n",
    "dash = prepare_dash(fig=figure)\n",
    "dash.run_server(port=8053,debug=False, use_reloader=False)\n"
   ]
  },
  {
   "cell_type": "markdown",
   "id": "c90887a4",
   "metadata": {},
   "source": [
    "# Model Evaluation"
   ]
  },
  {
   "cell_type": "code",
   "execution_count": 47,
   "id": "674227fb",
   "metadata": {},
   "outputs": [
    {
     "name": "stdout",
     "output_type": "stream",
     "text": [
      "Number of parameters in the model: 5288548\n"
     ]
    }
   ],
   "source": [
    "#1. Parameters\n",
    "def count_parameters(model):\n",
    "    return sum(p.numel() for p in model.parameters())\n",
    "num_parameters = count_parameters(model)\n",
    "print(f\"Number of parameters in the model: {num_parameters}\")"
   ]
  }
 ],
 "metadata": {
  "kernelspec": {
   "display_name": "Python 3 (ipykernel)",
   "language": "python",
   "name": "python3"
  },
  "language_info": {
   "codemirror_mode": {
    "name": "ipython",
    "version": 3
   },
   "file_extension": ".py",
   "mimetype": "text/x-python",
   "name": "python",
   "nbconvert_exporter": "python",
   "pygments_lexer": "ipython3",
   "version": "3.10.9"
  }
 },
 "nbformat": 4,
 "nbformat_minor": 5
}
